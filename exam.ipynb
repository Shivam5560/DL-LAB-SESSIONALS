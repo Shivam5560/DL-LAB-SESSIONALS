{
 "cells": [
  {
   "cell_type": "code",
   "execution_count": 2,
   "metadata": {},
   "outputs": [],
   "source": [
    "import numpy as np"
   ]
  },
  {
   "cell_type": "code",
   "execution_count": 3,
   "metadata": {},
   "outputs": [],
   "source": [
    "def initialize_kernel(size):\n",
    "    val = []\n",
    "    val.extend([1]*(size//2))\n",
    "    val.extend([0])\n",
    "    val.extend([-1]*(size//2))\n",
    "    return [val]*size"
   ]
  },
  {
   "cell_type": "code",
   "execution_count": 4,
   "metadata": {},
   "outputs": [],
   "source": [
    "def pad(x,pad_size):\n",
    "    size = len(x)\n",
    "    val = [0]*(size+(2*pad_size))\n",
    "    arr = []\n",
    "    for _ in range(pad_size):\n",
    "        arr.append(val)\n",
    "    for i in x:\n",
    "        a = []\n",
    "        a.extend([0]*pad_size)\n",
    "        a.extend(i)\n",
    "        a.extend([0]*pad_size)\n",
    "        arr.append(a)\n",
    "    for _ in range(pad_size):\n",
    "        arr.append(val)\n",
    "    print(f'\\nAfter padding size = ({len(arr)},{len(arr[0])})')\n",
    "    return arr\n"
   ]
  },
  {
   "cell_type": "code",
   "execution_count": 5,
   "metadata": {},
   "outputs": [],
   "source": [
    "def conv(x,y):\n",
    "    val = 0\n",
    "    for i,j in zip(x,y):\n",
    "        for val_i,val_j in zip(i,j):\n",
    "            val+= val_i*val_j\n",
    "    return val"
   ]
  },
  {
   "cell_type": "code",
   "execution_count": 6,
   "metadata": {},
   "outputs": [],
   "source": [
    "def column_sep(row_values,start,end):\n",
    "    arr = []\n",
    "    for i in row_values:\n",
    "        arr.append(i[start:end])\n",
    "    return arr"
   ]
  },
  {
   "cell_type": "code",
   "execution_count": 7,
   "metadata": {},
   "outputs": [],
   "source": [
    "def conv_layer(x,p,s,kernel_size):\n",
    "    x = pad(x,p)\n",
    "    print('After padding:')\n",
    "    print(x)\n",
    "    kernel = initialize_kernel(kernel_size)\n",
    "    print('\\nKernel Initialization Done')\n",
    "    print(kernel)\n",
    "    output_size = (len(x)-kernel_size)//s + 1\n",
    "    out = [[0]*output_size]*output_size\n",
    "    start_w = 0\n",
    "    final_result = []\n",
    "    for i in range(output_size):\n",
    "        arr = []\n",
    "        start_h = 0\n",
    "        if i!=0:\n",
    "            start_w+=s\n",
    "        row_values = x[start_w:start_w+kernel_size]\n",
    "        for j in range(output_size):\n",
    "            if j!=0:\n",
    "                start_h+=s\n",
    "            col_values = column_sep(row_values,start_h,start_h+kernel_size)\n",
    "            arr.append(conv(col_values,kernel))\n",
    "        final_result.append(arr)\n",
    "    return final_result"
   ]
  },
  {
   "cell_type": "code",
   "execution_count": 8,
   "metadata": {},
   "outputs": [],
   "source": [
    "def pool(X,type='max'):\n",
    "    if type=='max':\n",
    "        maxi = X[0][0]\n",
    "        for i in X:\n",
    "            for j in i:\n",
    "                if j>maxi:\n",
    "                    maxi=j\n",
    "        return maxi\n",
    "    elif type=='avg':\n",
    "        val = 0\n",
    "        ctr = 0\n",
    "        for i in X:\n",
    "            for j in i:\n",
    "                val+=j\n",
    "                ctr+=1\n",
    "        return val/ctr"
   ]
  },
  {
   "cell_type": "code",
   "execution_count": 9,
   "metadata": {},
   "outputs": [],
   "source": [
    "def pool_layer(x,s,kernel_size,type):\n",
    "    output_size = (len(x)-kernel_size)//s + 1\n",
    "    out = [[0]*output_size]*output_size\n",
    "    start_w = 0\n",
    "    final_result = []\n",
    "    for i in range(output_size):\n",
    "        arr = []\n",
    "        start_h = 0\n",
    "        if i!=0:\n",
    "            start_w+=s\n",
    "        row_values = x[start_w:start_w+kernel_size]\n",
    "        for j in range(output_size):\n",
    "            if j!=0:\n",
    "                start_h+=s\n",
    "            col_values = column_sep(row_values,start_h,start_h+kernel_size)\n",
    "            arr.append(pool(col_values,type=type))\n",
    "        final_result.append(arr)\n",
    "    return final_result"
   ]
  },
  {
   "cell_type": "code",
   "execution_count": 10,
   "metadata": {},
   "outputs": [],
   "source": [
    "def Flatten(X):\n",
    "    arr = []\n",
    "    for x in X:\n",
    "        for val in x:\n",
    "            arr.append(val)\n",
    "    return arr"
   ]
  },
  {
   "cell_type": "code",
   "execution_count": 11,
   "metadata": {},
   "outputs": [],
   "source": [
    "import random\n",
    "def weight_initialize(input_size,nodes):\n",
    "    w = []\n",
    "    for x in range(nodes):\n",
    "        arr = []\n",
    "        for y in range(input_size):\n",
    "            arr.append(random.random())\n",
    "        w.append(arr)\n",
    "    return w"
   ]
  },
  {
   "cell_type": "code",
   "execution_count": 12,
   "metadata": {},
   "outputs": [],
   "source": [
    "def bias_initialize(nodes):\n",
    "    b = []\n",
    "    for x in range(nodes):\n",
    "        b.append(random.random())\n",
    "    return b"
   ]
  },
  {
   "cell_type": "code",
   "execution_count": 13,
   "metadata": {},
   "outputs": [],
   "source": [
    "def sigmoid(val):\n",
    "    return 1/(1+np.exp(val*-1))"
   ]
  },
  {
   "cell_type": "code",
   "execution_count": 14,
   "metadata": {},
   "outputs": [],
   "source": [
    "def fc(values,nodes):\n",
    "    w = weight_initialize(len(values),nodes)\n",
    "    print('\\nWeight Initialization Done')\n",
    "    print(w)\n",
    "    b = bias_initialize(nodes)\n",
    "    print('\\nBias Initialization Done')\n",
    "    print(b)\n",
    "    val = np.dot(np.array(values),np.array(w).T)+b\n",
    "    return val"
   ]
  },
  {
   "cell_type": "code",
   "execution_count": 15,
   "metadata": {},
   "outputs": [],
   "source": [
    "def fc_dummy(values,nodes):\n",
    "    w = [[1]*len(values)]*nodes\n",
    "    b = [1]*nodes\n",
    "    val = np.dot(np.array(values),np.array(w).T)+b\n",
    "    return val"
   ]
  },
  {
   "cell_type": "code",
   "execution_count": 16,
   "metadata": {},
   "outputs": [
    {
     "name": "stdout",
     "output_type": "stream",
     "text": [
      "Orignal Data Shape : (5, 5)\n",
      "Input data :\n",
      "[[1, 2, 3, 4, 5], [6, 7, 8, 9, 10], [11, 12, 13, 14, 15], [16, 17, 18, 19, 20], [21, 22, 23, 24, 25]]\n",
      "\n",
      "After padding size = (5,5)\n",
      "After padding:\n",
      "[[1, 2, 3, 4, 5], [6, 7, 8, 9, 10], [11, 12, 13, 14, 15], [16, 17, 18, 19, 20], [21, 22, 23, 24, 25]]\n",
      "\n",
      "Kernel Initialization Done\n",
      "[[1, 0, -1], [1, 0, -1], [1, 0, -1]]\n",
      "\n",
      "After Convolution\n",
      "[[-6, -6, -6], [-6, -6, -6], [-6, -6, -6]]\n",
      "\n",
      "After Pooling\n",
      "[[-6, -6], [-6, -6]]\n",
      "\n",
      "After Flatten\n",
      "[-6, -6, -6, -6]\n",
      "\n",
      "Weight Initialization Done\n",
      "[[0.7517166499455614, 0.18049203224014632, 0.5811065533778713, 0.13441733512599208], [0.8221667745309269, 0.6386915825386187, 0.6421523807028915, 0.21018336725914377]]\n",
      "\n",
      "Bias Initialization Done\n",
      "[0.6636059540574833, 0.22088228108197805]\n",
      "\n",
      "After Hidden Layer Output\n",
      "[ -9.22278947 -13.65828235]\n",
      "\n",
      "Weight Initialization Done\n",
      "[[0.1593419873293126, 0.8043455875020854]]\n",
      "\n",
      "Bias Initialization Done\n",
      "[0.9112261575823334]\n",
      "\n",
      "Output at Output layer before sigmoid function\n",
      "[-11.54433059]\n",
      "\n",
      "Output at Output layer after sigmoid function\n",
      "[9.69073507e-06]\n"
     ]
    }
   ],
   "source": [
    "X = [[1,2,3,4,5],\n",
    "     [6,7,8,9,10],\n",
    "     [11,12,13,14,15],\n",
    "     [16,17,18,19,20],\n",
    "     [21,22,23,24,25]]\n",
    "\n",
    "print(f'Orignal Data Shape : {len(X),len(X[0])}')\n",
    "print('Input data :')\n",
    "print(X)\n",
    "\n",
    "\n",
    "c1 = conv_layer(X,p=0,s=1,kernel_size=3)\n",
    "print('\\nAfter Convolution')\n",
    "print(c1)\n",
    "\n",
    "p1 = pool_layer(c1,s=1,kernel_size=2,type='max')\n",
    "print('\\nAfter Pooling')\n",
    "print(p1)\n",
    "\n",
    "f1 = Flatten(p1)\n",
    "print('\\nAfter Flatten')\n",
    "print(f1)\n",
    "\n",
    "fc1 = fc(f1,2)\n",
    "print('\\nAfter Hidden Layer Output')\n",
    "print(fc1)\n",
    "\n",
    "o1 = fc(fc1,1)\n",
    "print('\\nOutput at Output layer before sigmoid function')\n",
    "print(o1)\n",
    "print('\\nOutput at Output layer after sigmoid function')\n",
    "print(sigmoid(o1))"
   ]
  },
  {
   "cell_type": "code",
   "execution_count": 17,
   "metadata": {},
   "outputs": [
    {
     "name": "stdout",
     "output_type": "stream",
     "text": [
      "Orignal Data Shape : (5, 5)\n",
      "Input data :\n",
      "[[1, 2, 3, 4, 5], [6, 7, 8, 9, 10], [11, 12, 13, 14, 15], [16, 17, 18, 19, 20], [21, 22, 23, 24, 25]]\n",
      "\n",
      "After padding size = (5,5)\n",
      "After padding:\n",
      "[[1, 2, 3, 4, 5], [6, 7, 8, 9, 10], [11, 12, 13, 14, 15], [16, 17, 18, 19, 20], [21, 22, 23, 24, 25]]\n",
      "\n",
      "Kernel Initialization Done\n",
      "[[1, 0, -1], [1, 0, -1], [1, 0, -1]]\n",
      "\n",
      "After Convolution\n",
      "[[-6, -6, -6], [-6, -6, -6], [-6, -6, -6]]\n",
      "\n",
      "After Pooling\n",
      "[[-6, -6], [-6, -6]]\n",
      "\n",
      "After Flatten\n",
      "[-6, -6, -6, -6]\n",
      "\n",
      "After Hidden Layer Output\n",
      "[-23 -23]\n",
      "\n",
      "Output at Output layer before sigmoid function\n",
      "[-45]\n",
      "\n",
      "Output at Output layer after sigmoid function\n",
      "[2.86251858e-20]\n"
     ]
    }
   ],
   "source": [
    "X = [[1,2,3,4,5],\n",
    "     [6,7,8,9,10],\n",
    "     [11,12,13,14,15],\n",
    "     [16,17,18,19,20],\n",
    "     [21,22,23,24,25]]\n",
    "\n",
    "print(f'Orignal Data Shape : {len(X),len(X[0])}')\n",
    "print('Input data :')\n",
    "print(X)\n",
    "\n",
    "\n",
    "c1 = conv_layer(X,p=0,s=1,kernel_size=3)\n",
    "print('\\nAfter Convolution')\n",
    "print(c1)\n",
    "\n",
    "p1 = pool_layer(c1,s=1,kernel_size=2,type='max')\n",
    "print('\\nAfter Pooling')\n",
    "print(p1)\n",
    "\n",
    "f1 = Flatten(p1)\n",
    "print('\\nAfter Flatten')\n",
    "print(f1)\n",
    "\n",
    "fc1 = fc_dummy(f1,2)\n",
    "print('\\nAfter Hidden Layer Output')\n",
    "print(fc1)\n",
    "\n",
    "o1 = fc_dummy(fc1,1)\n",
    "print('\\nOutput at Output layer before sigmoid function')\n",
    "print(o1)\n",
    "print('\\nOutput at Output layer after sigmoid function')\n",
    "print(sigmoid(o1))"
   ]
  }
 ],
 "metadata": {
  "kernelspec": {
   "display_name": "Python 3",
   "language": "python",
   "name": "python3"
  },
  "language_info": {
   "codemirror_mode": {
    "name": "ipython",
    "version": 3
   },
   "file_extension": ".py",
   "mimetype": "text/x-python",
   "name": "python",
   "nbconvert_exporter": "python",
   "pygments_lexer": "ipython3",
   "version": "3.11.5"
  }
 },
 "nbformat": 4,
 "nbformat_minor": 2
}
